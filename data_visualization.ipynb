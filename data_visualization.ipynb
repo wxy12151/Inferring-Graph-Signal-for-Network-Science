{
 "cells": [
  {
   "cell_type": "code",
   "execution_count": 3,
   "metadata": {},
   "outputs": [
    {
     "name": "stderr",
     "output_type": "stream",
     "text": [
      "/home/zczlx79/.conda/envs/pytorch/lib/python3.7/site-packages/tqdm/auto.py:22: TqdmWarning: IProgress not found. Please update jupyter and ipywidgets. See https://ipywidgets.readthedocs.io/en/stable/user_install.html\n",
      "  from .autonotebook import tqdm as notebook_tqdm\n"
     ]
    }
   ],
   "source": [
    "'''\n",
    "\n",
    "+-------------------------------+\n",
    "|                               |\n",
    "|    I M P O R T   M O D E L    | \n",
    "|                               |\n",
    "+-------------------------------+\n",
    "\n",
    "Description\n",
    "\n",
    "Creaged on Thu Aug 8 15:54 2022\n",
    "\n",
    "@author: Xingyu Wu\n",
    "'''\n",
    "\n",
    "# --------------------------\n",
    "# Importing public libraries\n",
    "# --------------------------\n",
    "\n",
    "# Operating system specific functions\n",
    "import os\n",
    "\n",
    "# Argument parser, for configuring the program execution\n",
    "import argparse\n",
    "\n",
    "# An object oriented library for handling EPANET files in Python\n",
    "import epynet \n",
    "\n",
    "# yaml / yml configuration file support (a kind of language) \n",
    "# pip install pyyaml\n",
    "import yaml\n",
    "\n",
    "# PyTorch deep learning framework\n",
    "import torch\n",
    "\n",
    "# Import the networkx library\n",
    "import networkx as nx\n",
    "\n",
    "# Import Pandas for data handling\n",
    "import pandas as pd\n",
    "\n",
    "# Import numpy for array handling\n",
    "import numpy as np\n",
    "\n",
    "# Matplotlib for generating graphics\n",
    "import matplotlib.pyplot as plt\n",
    "\n",
    "# PyTorch from graph conversion tool\n",
    "from torch_geometric.utils import from_networkx\n",
    "\n",
    "# conda install pytorch-sparse -c pyg\n",
    "\n",
    "# Train-test split with shuffle \n",
    "from sklearn.model_selection import train_test_split\n",
    "\n",
    "import sys"
   ]
  },
  {
   "cell_type": "markdown",
   "metadata": {},
   "source": [
    "## 1. Correlation between leaking pipe diameter and its own pipe diameter"
   ]
  },
  {
   "cell_type": "markdown",
   "metadata": {},
   "source": [
    "### 1.1 loading leaking pipe information"
   ]
  },
  {
   "cell_type": "code",
   "execution_count": 4,
   "metadata": {},
   "outputs": [
    {
     "name": "stdout",
     "output_type": "stream",
     "text": [
      "f <_io.TextIOWrapper name='./data/dataset_configuration.yaml' mode='r' encoding='UTF-8'>\n"
     ]
    }
   ],
   "source": [
    "config_path = './data/dataset_configuration.yaml'\n",
    "try:\n",
    "    with open(config_path,'r') as f:\n",
    "        print('f', f)\n",
    "        leak_pipes = yaml.load(f.read(),Loader=yaml.FullLoader)\n",
    "except:\n",
    "    print('\"dataset_configuration\" file not found.')\n",
    "    sys.exit()"
   ]
  },
  {
   "cell_type": "code",
   "execution_count": 5,
   "metadata": {},
   "outputs": [
    {
     "data": {
      "text/html": [
       "<div>\n",
       "<style scoped>\n",
       "    .dataframe tbody tr th:only-of-type {\n",
       "        vertical-align: middle;\n",
       "    }\n",
       "\n",
       "    .dataframe tbody tr th {\n",
       "        vertical-align: top;\n",
       "    }\n",
       "\n",
       "    .dataframe thead th {\n",
       "        text-align: right;\n",
       "    }\n",
       "</style>\n",
       "<table border=\"1\" class=\"dataframe\">\n",
       "  <thead>\n",
       "    <tr style=\"text-align: right;\">\n",
       "      <th></th>\n",
       "      <th>linkID</th>\n",
       "      <th>startTime</th>\n",
       "      <th>endTime</th>\n",
       "      <th>leakDiameter (m)</th>\n",
       "      <th>leakType</th>\n",
       "      <th>peakTime</th>\n",
       "    </tr>\n",
       "  </thead>\n",
       "  <tbody>\n",
       "    <tr>\n",
       "      <th>0</th>\n",
       "      <td>p257</td>\n",
       "      <td>2018-01-08 13:30</td>\n",
       "      <td>2019-12-31 23:55</td>\n",
       "      <td>0.011843</td>\n",
       "      <td>incipient</td>\n",
       "      <td>2018-01-25 08:30</td>\n",
       "    </tr>\n",
       "    <tr>\n",
       "      <th>1</th>\n",
       "      <td>p461</td>\n",
       "      <td>2018-01-23 04:25</td>\n",
       "      <td>2018-04-02 11:40</td>\n",
       "      <td>0.021320</td>\n",
       "      <td>incipient</td>\n",
       "      <td>2018-03-27 20:35</td>\n",
       "    </tr>\n",
       "    <tr>\n",
       "      <th>2</th>\n",
       "      <td>p232</td>\n",
       "      <td>2018-01-31 02:35</td>\n",
       "      <td>2018-02-10 09:20</td>\n",
       "      <td>0.020108</td>\n",
       "      <td>incipient</td>\n",
       "      <td>2018-02-03 16:05</td>\n",
       "    </tr>\n",
       "    <tr>\n",
       "      <th>3</th>\n",
       "      <td>p427</td>\n",
       "      <td>2018-02-13 08:25</td>\n",
       "      <td>2019-12-31 23:55</td>\n",
       "      <td>0.0090731</td>\n",
       "      <td>incipient</td>\n",
       "      <td>2018-05-14 19:25</td>\n",
       "    </tr>\n",
       "    <tr>\n",
       "      <th>4</th>\n",
       "      <td>p673</td>\n",
       "      <td>2018-03-05 15:45</td>\n",
       "      <td>2018-03-23 10:25</td>\n",
       "      <td>0.022916</td>\n",
       "      <td>abrupt</td>\n",
       "      <td>2018-03-05 15:45</td>\n",
       "    </tr>\n",
       "    <tr>\n",
       "      <th>5</th>\n",
       "      <td>p810</td>\n",
       "      <td>2018-07-28 03:05</td>\n",
       "      <td>2019-12-31 23:55</td>\n",
       "      <td>0.010028</td>\n",
       "      <td>incipient</td>\n",
       "      <td>2018-11-02 22:25</td>\n",
       "    </tr>\n",
       "    <tr>\n",
       "      <th>6</th>\n",
       "      <td>p628</td>\n",
       "      <td>2018-05-02 14:55</td>\n",
       "      <td>2018-05-29 21:20</td>\n",
       "      <td>0.022318</td>\n",
       "      <td>incipient</td>\n",
       "      <td>2018-05-16 08:00</td>\n",
       "    </tr>\n",
       "    <tr>\n",
       "      <th>7</th>\n",
       "      <td>p538</td>\n",
       "      <td>2018-05-18 08:35</td>\n",
       "      <td>2018-06-02 06:05</td>\n",
       "      <td>0.021731</td>\n",
       "      <td>abrupt</td>\n",
       "      <td>2018-05-18 08:35</td>\n",
       "    </tr>\n",
       "    <tr>\n",
       "      <th>8</th>\n",
       "      <td>p866</td>\n",
       "      <td>2018-06-01 09:05</td>\n",
       "      <td>2018-06-12 03:00</td>\n",
       "      <td>0.018108</td>\n",
       "      <td>abrupt</td>\n",
       "      <td>2018-06-01 09:05</td>\n",
       "    </tr>\n",
       "    <tr>\n",
       "      <th>9</th>\n",
       "      <td>p31</td>\n",
       "      <td>2018-06-28 10:35</td>\n",
       "      <td>2018-08-12 17:30</td>\n",
       "      <td>0.016389</td>\n",
       "      <td>incipient</td>\n",
       "      <td>2018-08-03 02:45</td>\n",
       "    </tr>\n",
       "    <tr>\n",
       "      <th>10</th>\n",
       "      <td>p654</td>\n",
       "      <td>2018-07-05 03:40</td>\n",
       "      <td>2019-12-31 23:55</td>\n",
       "      <td>0.0087735</td>\n",
       "      <td>incipient</td>\n",
       "      <td>2018-09-16 21:05</td>\n",
       "    </tr>\n",
       "    <tr>\n",
       "      <th>11</th>\n",
       "      <td>p183</td>\n",
       "      <td>2018-08-07 02:35</td>\n",
       "      <td>2018-09-01 17:10</td>\n",
       "      <td>0.015853</td>\n",
       "      <td>abrupt</td>\n",
       "      <td>2018-08-07 02:35</td>\n",
       "    </tr>\n",
       "    <tr>\n",
       "      <th>12</th>\n",
       "      <td>p158</td>\n",
       "      <td>2018-10-06 02:35</td>\n",
       "      <td>2018-10-23 13:35</td>\n",
       "      <td>0.019364</td>\n",
       "      <td>abrupt</td>\n",
       "      <td>2018-10-06 02:35</td>\n",
       "    </tr>\n",
       "    <tr>\n",
       "      <th>13</th>\n",
       "      <td>p369</td>\n",
       "      <td>2018-10-26 02:05</td>\n",
       "      <td>2018-11-08 20:25</td>\n",
       "      <td>0.019363</td>\n",
       "      <td>abrupt</td>\n",
       "      <td>2018-10-26 02:05</td>\n",
       "    </tr>\n",
       "    <tr>\n",
       "      <th>14</th>\n",
       "      <td>p523</td>\n",
       "      <td>2019-01-15 23:00</td>\n",
       "      <td>2019-02-01 09:50</td>\n",
       "      <td>0.020246</td>\n",
       "      <td>abrupt</td>\n",
       "      <td>2019-01-15 23:00</td>\n",
       "    </tr>\n",
       "    <tr>\n",
       "      <th>15</th>\n",
       "      <td>p827</td>\n",
       "      <td>2019-01-24 18:30</td>\n",
       "      <td>2019-02-07 09:05</td>\n",
       "      <td>0.02025</td>\n",
       "      <td>abrupt</td>\n",
       "      <td>2019-01-24 18:30</td>\n",
       "    </tr>\n",
       "    <tr>\n",
       "      <th>16</th>\n",
       "      <td>p280</td>\n",
       "      <td>2019-02-10 13:05</td>\n",
       "      <td>2019-12-31 23:55</td>\n",
       "      <td>0.0095008</td>\n",
       "      <td>abrupt</td>\n",
       "      <td>2019-02-10 13:05</td>\n",
       "    </tr>\n",
       "    <tr>\n",
       "      <th>17</th>\n",
       "      <td>p653</td>\n",
       "      <td>2019-03-03 13:10</td>\n",
       "      <td>2019-05-05 12:10</td>\n",
       "      <td>0.016035</td>\n",
       "      <td>incipient</td>\n",
       "      <td>2019-04-21 19:00</td>\n",
       "    </tr>\n",
       "    <tr>\n",
       "      <th>18</th>\n",
       "      <td>p710</td>\n",
       "      <td>2019-03-24 14:15</td>\n",
       "      <td>2019-12-31 23:55</td>\n",
       "      <td>0.0092936</td>\n",
       "      <td>abrupt</td>\n",
       "      <td>2019-03-24 14:15</td>\n",
       "    </tr>\n",
       "    <tr>\n",
       "      <th>19</th>\n",
       "      <td>p514</td>\n",
       "      <td>2019-04-02 20:40</td>\n",
       "      <td>2019-05-23 14:55</td>\n",
       "      <td>0.014979</td>\n",
       "      <td>abrupt</td>\n",
       "      <td>2019-04-02 20:40</td>\n",
       "    </tr>\n",
       "    <tr>\n",
       "      <th>20</th>\n",
       "      <td>p331</td>\n",
       "      <td>2019-04-20 10:10</td>\n",
       "      <td>2019-12-31 23:55</td>\n",
       "      <td>0.014053</td>\n",
       "      <td>abrupt</td>\n",
       "      <td>2019-04-20 10:10</td>\n",
       "    </tr>\n",
       "    <tr>\n",
       "      <th>21</th>\n",
       "      <td>p193</td>\n",
       "      <td>2019-05-19 10:40</td>\n",
       "      <td>2019-12-31 23:55</td>\n",
       "      <td>0.01239</td>\n",
       "      <td>incipient</td>\n",
       "      <td>2019-07-25 03:20</td>\n",
       "    </tr>\n",
       "    <tr>\n",
       "      <th>22</th>\n",
       "      <td>p277</td>\n",
       "      <td>2019-05-30 21:55</td>\n",
       "      <td>2019-12-31 23:55</td>\n",
       "      <td>0.012089</td>\n",
       "      <td>incipient</td>\n",
       "      <td>2019-08-11 15:05</td>\n",
       "    </tr>\n",
       "    <tr>\n",
       "      <th>23</th>\n",
       "      <td>p142</td>\n",
       "      <td>2019-06-12 19:55</td>\n",
       "      <td>2019-07-17 09:25</td>\n",
       "      <td>0.019857</td>\n",
       "      <td>abrupt</td>\n",
       "      <td>2019-06-12 19:55</td>\n",
       "    </tr>\n",
       "    <tr>\n",
       "      <th>24</th>\n",
       "      <td>p680</td>\n",
       "      <td>2019-07-10 08:45</td>\n",
       "      <td>2019-12-31 23:55</td>\n",
       "      <td>0.0097197</td>\n",
       "      <td>abrupt</td>\n",
       "      <td>2019-07-10 08:45</td>\n",
       "    </tr>\n",
       "    <tr>\n",
       "      <th>25</th>\n",
       "      <td>p586</td>\n",
       "      <td>2019-07-26 14:40</td>\n",
       "      <td>2019-09-16 03:20</td>\n",
       "      <td>0.017184</td>\n",
       "      <td>incipient</td>\n",
       "      <td>2019-08-28 07:55</td>\n",
       "    </tr>\n",
       "    <tr>\n",
       "      <th>26</th>\n",
       "      <td>p721</td>\n",
       "      <td>2019-08-02 03:00</td>\n",
       "      <td>2019-12-31 23:55</td>\n",
       "      <td>0.01408</td>\n",
       "      <td>incipient</td>\n",
       "      <td>2019-09-23 05:40</td>\n",
       "    </tr>\n",
       "    <tr>\n",
       "      <th>27</th>\n",
       "      <td>p800</td>\n",
       "      <td>2019-08-16 14:00</td>\n",
       "      <td>2019-10-01 16:35</td>\n",
       "      <td>0.018847</td>\n",
       "      <td>incipient</td>\n",
       "      <td>2019-09-07 21:05</td>\n",
       "    </tr>\n",
       "    <tr>\n",
       "      <th>28</th>\n",
       "      <td>p123</td>\n",
       "      <td>2019-09-13 20:05</td>\n",
       "      <td>2019-12-31 23:55</td>\n",
       "      <td>0.011906</td>\n",
       "      <td>incipient</td>\n",
       "      <td>2019-11-29 22:10</td>\n",
       "    </tr>\n",
       "    <tr>\n",
       "      <th>29</th>\n",
       "      <td>p455</td>\n",
       "      <td>2019-10-03 14:00</td>\n",
       "      <td>2019-12-31 23:55</td>\n",
       "      <td>0.012722</td>\n",
       "      <td>incipient</td>\n",
       "      <td>2019-12-16 05:25</td>\n",
       "    </tr>\n",
       "    <tr>\n",
       "      <th>30</th>\n",
       "      <td>p762</td>\n",
       "      <td>2019-10-09 10:15</td>\n",
       "      <td>2019-12-31 23:55</td>\n",
       "      <td>0.01519</td>\n",
       "      <td>incipient</td>\n",
       "      <td>2019-12-03 01:15</td>\n",
       "    </tr>\n",
       "    <tr>\n",
       "      <th>31</th>\n",
       "      <td>p426</td>\n",
       "      <td>2019-10-25 13:25</td>\n",
       "      <td>2019-12-31 23:55</td>\n",
       "      <td>0.015008</td>\n",
       "      <td>abrupt</td>\n",
       "      <td>2019-10-25 13:25</td>\n",
       "    </tr>\n",
       "    <tr>\n",
       "      <th>32</th>\n",
       "      <td>p879</td>\n",
       "      <td>2019-11-20 11:55</td>\n",
       "      <td>2019-12-31 23:55</td>\n",
       "      <td>0.013195</td>\n",
       "      <td>incipient</td>\n",
       "      <td>2019-12-31 23:55</td>\n",
       "    </tr>\n",
       "  </tbody>\n",
       "</table>\n",
       "</div>"
      ],
      "text/plain": [
       "   linkID          startTime           endTime leakDiameter (m)   leakType  \\\n",
       "0    p257   2018-01-08 13:30  2019-12-31 23:55         0.011843  incipient   \n",
       "1    p461   2018-01-23 04:25  2018-04-02 11:40         0.021320  incipient   \n",
       "2    p232   2018-01-31 02:35  2018-02-10 09:20         0.020108  incipient   \n",
       "3    p427   2018-02-13 08:25  2019-12-31 23:55        0.0090731  incipient   \n",
       "4    p673   2018-03-05 15:45  2018-03-23 10:25         0.022916     abrupt   \n",
       "5    p810   2018-07-28 03:05  2019-12-31 23:55         0.010028  incipient   \n",
       "6    p628   2018-05-02 14:55  2018-05-29 21:20         0.022318  incipient   \n",
       "7    p538   2018-05-18 08:35  2018-06-02 06:05         0.021731     abrupt   \n",
       "8    p866   2018-06-01 09:05  2018-06-12 03:00         0.018108     abrupt   \n",
       "9     p31   2018-06-28 10:35  2018-08-12 17:30         0.016389  incipient   \n",
       "10   p654   2018-07-05 03:40  2019-12-31 23:55        0.0087735  incipient   \n",
       "11   p183   2018-08-07 02:35  2018-09-01 17:10         0.015853     abrupt   \n",
       "12   p158   2018-10-06 02:35  2018-10-23 13:35         0.019364     abrupt   \n",
       "13   p369   2018-10-26 02:05  2018-11-08 20:25         0.019363     abrupt   \n",
       "14   p523   2019-01-15 23:00  2019-02-01 09:50         0.020246     abrupt   \n",
       "15   p827   2019-01-24 18:30  2019-02-07 09:05          0.02025     abrupt   \n",
       "16   p280   2019-02-10 13:05  2019-12-31 23:55        0.0095008     abrupt   \n",
       "17   p653   2019-03-03 13:10  2019-05-05 12:10         0.016035  incipient   \n",
       "18   p710   2019-03-24 14:15  2019-12-31 23:55        0.0092936     abrupt   \n",
       "19   p514   2019-04-02 20:40  2019-05-23 14:55         0.014979     abrupt   \n",
       "20   p331   2019-04-20 10:10  2019-12-31 23:55         0.014053     abrupt   \n",
       "21   p193   2019-05-19 10:40  2019-12-31 23:55          0.01239  incipient   \n",
       "22   p277   2019-05-30 21:55  2019-12-31 23:55         0.012089  incipient   \n",
       "23   p142   2019-06-12 19:55  2019-07-17 09:25         0.019857     abrupt   \n",
       "24   p680   2019-07-10 08:45  2019-12-31 23:55        0.0097197     abrupt   \n",
       "25   p586   2019-07-26 14:40  2019-09-16 03:20         0.017184  incipient   \n",
       "26   p721   2019-08-02 03:00  2019-12-31 23:55          0.01408  incipient   \n",
       "27   p800   2019-08-16 14:00  2019-10-01 16:35         0.018847  incipient   \n",
       "28   p123   2019-09-13 20:05  2019-12-31 23:55         0.011906  incipient   \n",
       "29   p455   2019-10-03 14:00  2019-12-31 23:55         0.012722  incipient   \n",
       "30   p762   2019-10-09 10:15  2019-12-31 23:55          0.01519  incipient   \n",
       "31   p426   2019-10-25 13:25  2019-12-31 23:55         0.015008     abrupt   \n",
       "32   p879   2019-11-20 11:55  2019-12-31 23:55         0.013195  incipient   \n",
       "\n",
       "            peakTime  \n",
       "0   2018-01-25 08:30  \n",
       "1   2018-03-27 20:35  \n",
       "2   2018-02-03 16:05  \n",
       "3   2018-05-14 19:25  \n",
       "4   2018-03-05 15:45  \n",
       "5   2018-11-02 22:25  \n",
       "6   2018-05-16 08:00  \n",
       "7   2018-05-18 08:35  \n",
       "8   2018-06-01 09:05  \n",
       "9   2018-08-03 02:45  \n",
       "10  2018-09-16 21:05  \n",
       "11  2018-08-07 02:35  \n",
       "12  2018-10-06 02:35  \n",
       "13  2018-10-26 02:05  \n",
       "14  2019-01-15 23:00  \n",
       "15  2019-01-24 18:30  \n",
       "16  2019-02-10 13:05  \n",
       "17  2019-04-21 19:00  \n",
       "18  2019-03-24 14:15  \n",
       "19  2019-04-02 20:40  \n",
       "20  2019-04-20 10:10  \n",
       "21  2019-07-25 03:20  \n",
       "22  2019-08-11 15:05  \n",
       "23  2019-06-12 19:55  \n",
       "24  2019-07-10 08:45  \n",
       "25  2019-08-28 07:55  \n",
       "26  2019-09-23 05:40  \n",
       "27  2019-09-07 21:05  \n",
       "28  2019-11-29 22:10  \n",
       "29  2019-12-16 05:25  \n",
       "30  2019-12-03 01:15  \n",
       "31  2019-10-25 13:25  \n",
       "32  2019-12-31 23:55  "
      ]
     },
     "execution_count": 5,
     "metadata": {},
     "output_type": "execute_result"
    }
   ],
   "source": [
    "leakages = leak_pipes['leakages']\n",
    "leakages = leakages[1:]\n",
    "df_leakage = pd.DataFrame(leakages)\n",
    "column_names = {0:'linkID', 1:'startTime', 2:'endTime', 3:'leakDiameter (m)', 4:'leakType', 5:'peakTime'}\n",
    "df_leakage = pd.concat([df_leakage.iloc[:, 0].str.split(', ', expand=True)], axis=1)\n",
    "df_leakage.rename(columns = column_names, inplace = True)\n",
    "df_leakage"
   ]
  },
  {
   "cell_type": "code",
   "execution_count": 53,
   "metadata": {},
   "outputs": [
    {
     "data": {
      "text/plain": [
       "33"
      ]
     },
     "execution_count": 53,
     "metadata": {},
     "output_type": "execute_result"
    }
   ],
   "source": [
    "leakDiameter = df_leakage['leakDiameter (m)'].to_list()\n",
    "leakDiameter = list(map(float, leakDiameter))\n",
    "len(leakDiameter)"
   ]
  },
  {
   "cell_type": "markdown",
   "metadata": {},
   "source": [
    "### 1.2 loading pipe diameter from .inp model"
   ]
  },
  {
   "cell_type": "code",
   "execution_count": 6,
   "metadata": {},
   "outputs": [],
   "source": [
    "path_to_wdn = './data/L-TOWN_Real.inp' # Do I need to distinguish between REAL and NOMINAL EPANET inps here?"
   ]
  },
  {
   "cell_type": "code",
   "execution_count": 7,
   "metadata": {},
   "outputs": [],
   "source": [
    "# Import the .inp file using the EPYNET library\n",
    "wdn = epynet.Network(path_to_wdn)\n",
    "\n",
    "# Solve hydraulic model for a single timestep\n",
    "wdn.solve()"
   ]
  },
  {
   "cell_type": "code",
   "execution_count": 29,
   "metadata": {},
   "outputs": [
    {
     "data": {
      "text/plain": [
       "198.6771"
      ]
     },
     "execution_count": 29,
     "metadata": {},
     "output_type": "execute_result"
    }
   ],
   "source": [
    "wdn.pipes['p1'].diameter"
   ]
  },
  {
   "cell_type": "code",
   "execution_count": 35,
   "metadata": {},
   "outputs": [
    {
     "data": {
      "text/plain": [
       "33"
      ]
     },
     "execution_count": 35,
     "metadata": {},
     "output_type": "execute_result"
    }
   ],
   "source": [
    "pipeDiameter = []\n",
    "for i in range(len(leakDiameter)):\n",
    "    pipe_name = df_leakage['linkID'][i]\n",
    "    pipeDiameter.append(wdn.pipes[pipe_name].diameter)\n",
    "len(pipeDiameter)\n",
    "    "
   ]
  },
  {
   "cell_type": "markdown",
   "metadata": {},
   "source": [
    "### 1.3 scatter plot and correlation"
   ]
  },
  {
   "cell_type": "code",
   "execution_count": 56,
   "metadata": {},
   "outputs": [
    {
     "name": "stdout",
     "output_type": "stream",
     "text": [
      "plot scatter plots of leaking diameters and pipe diameters\n"
     ]
    },
    {
     "data": {
      "image/png": "[encoded data removed]",
      "text/plain": [
       "<Figure size 1152x504 with 1 Axes>"
      ]
     },
     "metadata": {
      "needs_background": "light"
     },
     "output_type": "display_data"
    }
   ],
   "source": [
    "# plot scatter plots of AAPL Close and two kinds of share indexes.\n",
    "print('plot scatter plots of leaking diameters and pipe diameters')\n",
    "fig, (ax1) = plt.subplots(1, 1, figsize=(16, 7))\n",
    "ax1.scatter(pipeDiameter, leakDiameter)\n",
    "ax1.set_xlabel(r'leaking diamiters', fontsize=30)\n",
    "ax1.set_ylabel(r'pipe diamters', fontsize=30)\n",
    "ax1.tick_params(labelsize=30)\n",
    "plt.tight_layout()\n",
    "# plt.savefig(\"./image/scatter.pdf\")"
   ]
  },
  {
   "cell_type": "code",
   "execution_count": 59,
   "metadata": {},
   "outputs": [
    {
     "data": {
      "text/plain": [
       "array([[ 1.        , -0.26293334],\n",
       "       [-0.26293334,  1.        ]])"
      ]
     },
     "execution_count": 59,
     "metadata": {},
     "output_type": "execute_result"
    }
   ],
   "source": [
    "np.corrcoef(leakDiameter, pipeDiameter) # pearsonr correlation matrix"
   ]
  },
  {
   "cell_type": "markdown",
   "metadata": {},
   "source": [
    "相关系数＜0.4被认为相关性比较弱。\n",
    "\n",
    "从线性和非线性相关系数来看，基本上没有相关性。\n",
    "\n",
    "p值(不相关的概率) > 0.05, 没有理由认为显著性差异存在，即没有相关性。"
   ]
  },
  {
   "cell_type": "code",
   "execution_count": 58,
   "metadata": {},
   "outputs": [
    {
     "name": "stdout",
     "output_type": "stream",
     "text": [
      "linear correlation: (-0.26293334250121564, 0.13931368648100997)\n",
      "non-linear correlation: SpearmanrResult(correlation=-0.13302139037433156, pvalue=0.4605299531844579)\n"
     ]
    }
   ],
   "source": [
    "from scipy.stats import pearsonr, spearmanr\n",
    "print('linear correlation:', pearsonr(leakDiameter, pipeDiameter))\n",
    "print('non-linear correlation:', spearmanr(leakDiameter, pipeDiameter))"
   ]
  },
  {
   "cell_type": "markdown",
   "metadata": {},
   "source": []
  },
  {
   "cell_type": "code",
   "execution_count": null,
   "metadata": {},
   "outputs": [],
   "source": []
  }
 ],
 "metadata": {
  "kernelspec": {
   "display_name": "Python 3.7.13 ('pytorch')",
   "language": "python",
   "name": "python3"
  },
  "language_info": {
   "codemirror_mode": {
    "name": "ipython",
    "version": 3
   },
   "file_extension": ".py",
   "mimetype": "text/x-python",
   "name": "python",
   "nbconvert_exporter": "python",
   "pygments_lexer": "ipython3",
   "version": "3.7.13"
  },
  "orig_nbformat": 4,
  "vscode": {
   "interpreter": {
    "hash": "1d20d3fe1629bee11e11ee5e47166b9da72f38373702bf60f9136aa9c7972eee"
   }
  }
 },
 "nbformat": 4,
 "nbformat_minor": 2
}
